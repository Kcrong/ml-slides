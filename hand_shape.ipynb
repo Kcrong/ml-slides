{
 "cells": [
  {
   "cell_type": "code",
   "execution_count": 11,
   "metadata": {},
   "outputs": [],
   "source": [
    "import numpy as np\n",
    "from keras.models import Sequential\n",
    "from keras.layers import Dense\n",
    "from keras.layers import Flatten\n",
    "from keras.layers.convolutional import Conv2D\n",
    "from keras.layers.convolutional import MaxPooling2D\n",
    "from keras.preprocessing.image import ImageDataGenerator\n",
    "\n",
    "np.random.seed(3)"
   ]
  },
  {
   "cell_type": "code",
   "execution_count": 12,
   "metadata": {},
   "outputs": [
    {
     "name": "stdout",
     "output_type": "stream",
     "text": [
      "Found 45 images belonging to 3 classes.\n"
     ]
    }
   ],
   "source": [
    "train_datagen = ImageDataGenerator(rescale=1./255)\n",
    "\n",
    "train_generator = train_datagen.flow_from_directory(\n",
    "        'data/handwriting_shape/train',\n",
    "        target_size=(24, 24),\n",
    "        batch_size=3,\n",
    "        class_mode='categorical')"
   ]
  },
  {
   "cell_type": "code",
   "execution_count": 20,
   "metadata": {},
   "outputs": [
    {
     "name": "stdout",
     "output_type": "stream",
     "text": [
      "Found 16 images belonging to 3 classes.\n"
     ]
    }
   ],
   "source": [
    "test_datagen = ImageDataGenerator(rescale=1./255)\n",
    "\n",
    "test_generator = test_datagen.flow_from_directory(\n",
    "        'data/handwriting_shape/test',\n",
    "        target_size=(24, 24),    \n",
    "        batch_size=3,\n",
    "        class_mode='categorical')"
   ]
  },
  {
   "cell_type": "code",
   "execution_count": 14,
   "metadata": {},
   "outputs": [],
   "source": [
    "model = Sequential()\n",
    "model.add(Conv2D(32, kernel_size=(3, 3),\n",
    "                 activation='relu',\n",
    "                 input_shape=(24,24,3)))\n",
    "model.add(Conv2D(64, (3, 3), activation='relu'))\n",
    "model.add(MaxPooling2D(pool_size=(2, 2)))\n",
    "model.add(Flatten())\n",
    "model.add(Dense(128, activation='relu'))\n",
    "model.add(Dense(3, activation='softmax'))"
   ]
  },
  {
   "cell_type": "code",
   "execution_count": 15,
   "metadata": {},
   "outputs": [],
   "source": [
    "model.compile(loss='categorical_crossentropy', optimizer='adam', metrics=['accuracy'])"
   ]
  },
  {
   "cell_type": "code",
   "execution_count": 16,
   "metadata": {},
   "outputs": [
    {
     "name": "stdout",
     "output_type": "stream",
     "text": [
      "Epoch 1/50\n",
      "15/15 [==============================] - 1s 58ms/step - loss: 1.0266 - acc: 0.5556 - val_loss: 0.5252 - val_acc: 1.0000\n",
      "Epoch 2/50\n",
      "15/15 [==============================] - 0s 28ms/step - loss: 0.2124 - acc: 0.9556 - val_loss: 0.1478 - val_acc: 1.0000\n",
      "Epoch 3/50\n",
      "15/15 [==============================] - 0s 27ms/step - loss: 0.0756 - acc: 0.9778 - val_loss: 0.0252 - val_acc: 1.0000\n",
      "Epoch 4/50\n",
      "15/15 [==============================] - 0s 28ms/step - loss: 0.0070 - acc: 1.0000 - val_loss: 0.0117 - val_acc: 1.0000\n",
      "Epoch 5/50\n",
      "15/15 [==============================] - 0s 27ms/step - loss: 0.0012 - acc: 1.0000 - val_loss: 0.0081 - val_acc: 1.0000\n",
      "Epoch 6/50\n",
      "15/15 [==============================] - 0s 27ms/step - loss: 4.6394e-04 - acc: 1.0000 - val_loss: 0.0081 - val_acc: 1.0000\n",
      "Epoch 7/50\n",
      "15/15 [==============================] - 0s 28ms/step - loss: 3.5063e-04 - acc: 1.0000 - val_loss: 0.0080 - val_acc: 1.0000\n",
      "Epoch 8/50\n",
      "15/15 [==============================] - 0s 27ms/step - loss: 2.7015e-04 - acc: 1.0000 - val_loss: 0.0074 - val_acc: 1.0000\n",
      "Epoch 9/50\n",
      "15/15 [==============================] - 0s 29ms/step - loss: 2.2263e-04 - acc: 1.0000 - val_loss: 0.0069 - val_acc: 1.0000\n",
      "Epoch 10/50\n",
      "15/15 [==============================] - 0s 28ms/step - loss: 1.9021e-04 - acc: 1.0000 - val_loss: 0.0066 - val_acc: 1.0000\n",
      "Epoch 11/50\n",
      "15/15 [==============================] - 0s 28ms/step - loss: 1.6456e-04 - acc: 1.0000 - val_loss: 0.0066 - val_acc: 1.0000\n",
      "Epoch 12/50\n",
      "15/15 [==============================] - 0s 27ms/step - loss: 1.4174e-04 - acc: 1.0000 - val_loss: 0.0064 - val_acc: 1.0000\n",
      "Epoch 13/50\n",
      "15/15 [==============================] - 0s 27ms/step - loss: 1.2089e-04 - acc: 1.0000 - val_loss: 0.0061 - val_acc: 1.0000\n",
      "Epoch 14/50\n",
      "15/15 [==============================] - 0s 28ms/step - loss: 1.0553e-04 - acc: 1.0000 - val_loss: 0.0062 - val_acc: 1.0000\n",
      "Epoch 15/50\n",
      "15/15 [==============================] - 0s 28ms/step - loss: 9.1872e-05 - acc: 1.0000 - val_loss: 0.0060 - val_acc: 1.0000\n",
      "Epoch 16/50\n",
      "15/15 [==============================] - 0s 28ms/step - loss: 8.2149e-05 - acc: 1.0000 - val_loss: 0.0059 - val_acc: 1.0000\n",
      "Epoch 17/50\n",
      "15/15 [==============================] - 0s 30ms/step - loss: 7.4070e-05 - acc: 1.0000 - val_loss: 0.0058 - val_acc: 1.0000\n",
      "Epoch 18/50\n",
      "15/15 [==============================] - 0s 29ms/step - loss: 6.7013e-05 - acc: 1.0000 - val_loss: 0.0056 - val_acc: 1.0000\n",
      "Epoch 19/50\n",
      "15/15 [==============================] - 0s 29ms/step - loss: 6.0741e-05 - acc: 1.0000 - val_loss: 0.0054 - val_acc: 1.0000\n",
      "Epoch 20/50\n",
      "15/15 [==============================] - 0s 28ms/step - loss: 5.6011e-05 - acc: 1.0000 - val_loss: 0.0052 - val_acc: 1.0000\n",
      "Epoch 21/50\n",
      "15/15 [==============================] - 0s 27ms/step - loss: 5.0434e-05 - acc: 1.0000 - val_loss: 0.0050 - val_acc: 1.0000\n",
      "Epoch 22/50\n",
      "15/15 [==============================] - 0s 31ms/step - loss: 4.6575e-05 - acc: 1.0000 - val_loss: 0.0048 - val_acc: 1.0000\n",
      "Epoch 23/50\n",
      "15/15 [==============================] - 0s 28ms/step - loss: 4.2930e-05 - acc: 1.0000 - val_loss: 0.0046 - val_acc: 1.0000\n",
      "Epoch 24/50\n",
      "15/15 [==============================] - 0s 28ms/step - loss: 3.9403e-05 - acc: 1.0000 - val_loss: 0.0045 - val_acc: 1.0000\n",
      "Epoch 25/50\n",
      "15/15 [==============================] - 0s 31ms/step - loss: 3.6157e-05 - acc: 1.0000 - val_loss: 0.0044 - val_acc: 1.0000\n",
      "Epoch 26/50\n",
      "15/15 [==============================] - 0s 28ms/step - loss: 3.3757e-05 - acc: 1.0000 - val_loss: 0.0042 - val_acc: 1.0000\n",
      "Epoch 27/50\n",
      "15/15 [==============================] - 0s 28ms/step - loss: 3.1028e-05 - acc: 1.0000 - val_loss: 0.0040 - val_acc: 1.0000\n",
      "Epoch 28/50\n",
      "15/15 [==============================] - 0s 28ms/step - loss: 2.8636e-05 - acc: 1.0000 - val_loss: 0.0038 - val_acc: 1.0000\n",
      "Epoch 29/50\n",
      "15/15 [==============================] - 0s 29ms/step - loss: 2.6019e-05 - acc: 1.0000 - val_loss: 0.0037 - val_acc: 1.0000\n",
      "Epoch 30/50\n",
      "15/15 [==============================] - 0s 28ms/step - loss: 2.4042e-05 - acc: 1.0000 - val_loss: 0.0034 - val_acc: 1.0000\n",
      "Epoch 31/50\n",
      "15/15 [==============================] - 0s 28ms/step - loss: 2.1975e-05 - acc: 1.0000 - val_loss: 0.0032 - val_acc: 1.0000\n",
      "Epoch 32/50\n",
      "15/15 [==============================] - 0s 28ms/step - loss: 2.0105e-05 - acc: 1.0000 - val_loss: 0.0030 - val_acc: 1.0000\n",
      "Epoch 33/50\n",
      "15/15 [==============================] - 0s 28ms/step - loss: 1.8603e-05 - acc: 1.0000 - val_loss: 0.0028 - val_acc: 1.0000\n",
      "Epoch 34/50\n",
      "15/15 [==============================] - 0s 28ms/step - loss: 1.6943e-05 - acc: 1.0000 - val_loss: 0.0027 - val_acc: 1.0000\n",
      "Epoch 35/50\n",
      "15/15 [==============================] - 0s 29ms/step - loss: 1.5514e-05 - acc: 1.0000 - val_loss: 0.0026 - val_acc: 1.0000\n",
      "Epoch 36/50\n",
      "15/15 [==============================] - 0s 30ms/step - loss: 1.4418e-05 - acc: 1.0000 - val_loss: 0.0025 - val_acc: 1.0000\n",
      "Epoch 37/50\n",
      "15/15 [==============================] - 0s 27ms/step - loss: 1.3389e-05 - acc: 1.0000 - val_loss: 0.0023 - val_acc: 1.0000\n",
      "Epoch 38/50\n",
      "15/15 [==============================] - 0s 26ms/step - loss: 1.2336e-05 - acc: 1.0000 - val_loss: 0.0022 - val_acc: 1.0000\n",
      "Epoch 39/50\n",
      "15/15 [==============================] - 0s 27ms/step - loss: 1.1544e-05 - acc: 1.0000 - val_loss: 0.0021 - val_acc: 1.0000\n",
      "Epoch 40/50\n",
      "15/15 [==============================] - 0s 27ms/step - loss: 1.0608e-05 - acc: 1.0000 - val_loss: 0.0020 - val_acc: 1.0000\n",
      "Epoch 41/50\n",
      "15/15 [==============================] - 0s 26ms/step - loss: 9.9939e-06 - acc: 1.0000 - val_loss: 0.0019 - val_acc: 1.0000\n",
      "Epoch 42/50\n",
      "15/15 [==============================] - 0s 26ms/step - loss: 9.3183e-06 - acc: 1.0000 - val_loss: 0.0018 - val_acc: 1.0000\n",
      "Epoch 43/50\n",
      "15/15 [==============================] - 0s 27ms/step - loss: 8.7819e-06 - acc: 1.0000 - val_loss: 0.0018 - val_acc: 1.0000\n",
      "Epoch 44/50\n",
      "15/15 [==============================] - 0s 27ms/step - loss: 8.2852e-06 - acc: 1.0000 - val_loss: 0.0017 - val_acc: 1.0000\n",
      "Epoch 45/50\n",
      "15/15 [==============================] - 0s 27ms/step - loss: 7.7540e-06 - acc: 1.0000 - val_loss: 0.0016 - val_acc: 1.0000\n",
      "Epoch 46/50\n",
      "15/15 [==============================] - 0s 27ms/step - loss: 7.3659e-06 - acc: 1.0000 - val_loss: 0.0016 - val_acc: 1.0000\n",
      "Epoch 47/50\n",
      "15/15 [==============================] - 0s 27ms/step - loss: 6.9102e-06 - acc: 1.0000 - val_loss: 0.0015 - val_acc: 1.0000\n",
      "Epoch 48/50\n",
      "15/15 [==============================] - 0s 30ms/step - loss: 6.5950e-06 - acc: 1.0000 - val_loss: 0.0015 - val_acc: 1.0000\n",
      "Epoch 49/50\n",
      "15/15 [==============================] - 0s 29ms/step - loss: 6.1897e-06 - acc: 1.0000 - val_loss: 0.0014 - val_acc: 1.0000\n",
      "Epoch 50/50\n",
      "15/15 [==============================] - 0s 26ms/step - loss: 5.8784e-06 - acc: 1.0000 - val_loss: 0.0014 - val_acc: 1.0000\n"
     ]
    }
   ],
   "source": [
    "hist = model.fit_generator(\n",
    "            train_generator,\n",
    "            steps_per_epoch=15,\n",
    "            epochs=50,\n",
    "            validation_data=test_generator,\n",
    "            validation_steps=5)"
   ]
  },
  {
   "cell_type": "code",
   "execution_count": 17,
   "metadata": {},
   "outputs": [
    {
     "name": "stdout",
     "output_type": "stream",
     "text": [
      "-- Evaluate --\n",
      "acc: 100.00%\n"
     ]
    }
   ],
   "source": [
    "print(\"-- Evaluate --\")\n",
    "scores = model.evaluate_generator(test_generator, steps=5)\n",
    "print(\"%s: %.2f%%\" %(model.metrics_names[1], scores[1]*100))"
   ]
  },
  {
   "cell_type": "code",
   "execution_count": 18,
   "metadata": {},
   "outputs": [
    {
     "name": "stdout",
     "output_type": "stream",
     "text": [
      "-- Predict --\n",
      "{'circle': 0, 'rectangle': 1, 'triangle': 2}\n",
      "[[1.000 0.000 0.000]\n",
      " [0.999 0.001 0.001]\n",
      " [0.000 0.000 1.000]\n",
      " [1.000 0.000 0.000]\n",
      " [0.000 1.000 0.000]\n",
      " [0.000 1.000 0.000]\n",
      " [0.000 0.000 1.000]\n",
      " [0.000 0.000 1.000]\n",
      " [0.007 0.983 0.010]\n",
      " [1.000 0.000 0.000]\n",
      " [1.000 0.000 0.000]\n",
      " [0.000 0.000 1.000]\n",
      " [0.000 1.000 0.000]\n",
      " [0.000 0.002 0.998]\n",
      " [0.000 1.000 0.000]]\n"
     ]
    }
   ],
   "source": [
    "print(\"-- Predict --\")\n",
    "output = model.predict_generator(test_generator, steps=5)\n",
    "np.set_printoptions(formatter={'float': lambda x: \"{0:0.3f}\".format(x)})\n",
    "\n",
    "print(test_generator.class_indices)\n",
    "print(output)"
   ]
  },
  {
   "cell_type": "code",
   "execution_count": null,
   "metadata": {},
   "outputs": [],
   "source": []
  }
 ],
 "metadata": {
  "kernelspec": {
   "display_name": "Python 3",
   "language": "python",
   "name": "python3"
  },
  "language_info": {
   "codemirror_mode": {
    "name": "ipython",
    "version": 3
   },
   "file_extension": ".py",
   "mimetype": "text/x-python",
   "name": "python",
   "nbconvert_exporter": "python",
   "pygments_lexer": "ipython3",
   "version": "3.6.4"
  }
 },
 "nbformat": 4,
 "nbformat_minor": 2
}
